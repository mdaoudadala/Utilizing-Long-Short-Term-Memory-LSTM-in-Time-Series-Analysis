{
 "cells": [
  {
   "cell_type": "markdown",
   "metadata": {},
   "source": [
    "Before diving into the coding aspect of time series forecasting with LSTM, let's familiarize ourselves with some of the key concepts involved. This will ensure that beginners reading this article have a solid understanding before proceeding further."
   ]
  },
  {
   "cell_type": "markdown",
   "metadata": {},
   "source": [
    "## What exactly is Time Series Forecasting?\n",
    "\n",
    "Time series forecasting involves predicting future events based on a sequential arrangement of time-stamped data points. This technique finds applications across various disciplines, ranging from geology and behavior to economics. By analyzing historical trends, time series forecasting techniques anticipate future events, operating under the assumption that future trends will mirror past patterns."
   ]
  },
  {
   "cell_type": "markdown",
   "metadata": {},
   "source": [
    "## What is LSTM?\n",
    "\n",
    "LSTM, which stands for Long Short-Term Memory, is a model or architecture designed to enhance the memory capabilities of recurrent neural networks (RNNs). Unlike traditional RNNs, which exhibit a tendency towards \"short-term memory,\" LSTM networks can retain information over longer sequences. In conventional RNNs, past information is persistently used in the current neural network task. However, this approach lacks access to a comprehensive history of previous information for each neural node."
   ]
  },
  {
   "cell_type": "markdown",
   "metadata": {},
   "source": [
    "## Predicting Time Series (Stock prices) with LSTM\n",
    "\n",
    "Now that we've covered the concepts of time series forecasting and LSTM models, let's move on to building a machine learning model to forecast time series using LSTM in Machine Learning.\n",
    "\n",
    "Utilizing LSTM represents one of the most effective machine learning methodologies for time series forecasting. LSTMs, as recurrent neural networks, excel at retaining information over extended periods. Consequently, when faced with challenges where conventional neural networks struggle to memorize data adequately, LSTM networks offer a compelling solution. \n",
    "\n",
    "Now, transitioning to the task at hand: Stock price prediction with LSTM using the Python programming language. We'll commence by importing essential Python libraries and gathering the latest stock price data for Apple."
   ]
  },
  {
   "cell_type": "code",
   "execution_count": 5,
   "metadata": {},
   "outputs": [
    {
     "name": "stderr",
     "output_type": "stream",
     "text": [
      "/opt/homebrew/lib/python3.10/site-packages/yfinance/base.py:48: FutureWarning: The default dtype for empty Series will be 'object' instead of 'float64' in a future version. Specify a dtype explicitly to silence this warning.\n",
      "  _empty_series = pd.Series()\n"
     ]
    },
    {
     "data": {
      "text/html": [
       "<div>\n",
       "<style scoped>\n",
       "    .dataframe tbody tr th:only-of-type {\n",
       "        vertical-align: middle;\n",
       "    }\n",
       "\n",
       "    .dataframe tbody tr th {\n",
       "        vertical-align: top;\n",
       "    }\n",
       "\n",
       "    .dataframe thead th {\n",
       "        text-align: right;\n",
       "    }\n",
       "</style>\n",
       "<table border=\"1\" class=\"dataframe\">\n",
       "  <thead>\n",
       "    <tr style=\"text-align: right;\">\n",
       "      <th></th>\n",
       "      <th>Date</th>\n",
       "      <th>Open</th>\n",
       "      <th>High</th>\n",
       "      <th>Low</th>\n",
       "      <th>Close</th>\n",
       "      <th>Adj Close</th>\n",
       "      <th>Volume</th>\n",
       "    </tr>\n",
       "  </thead>\n",
       "  <tbody>\n",
       "    <tr>\n",
       "      <th>3441</th>\n",
       "      <td>2024-02-09</td>\n",
       "      <td>188.649994</td>\n",
       "      <td>189.990005</td>\n",
       "      <td>188.000000</td>\n",
       "      <td>188.850006</td>\n",
       "      <td>188.850006</td>\n",
       "      <td>45155200</td>\n",
       "    </tr>\n",
       "    <tr>\n",
       "      <th>3442</th>\n",
       "      <td>2024-02-12</td>\n",
       "      <td>188.419998</td>\n",
       "      <td>188.669998</td>\n",
       "      <td>186.789993</td>\n",
       "      <td>187.149994</td>\n",
       "      <td>187.149994</td>\n",
       "      <td>41781900</td>\n",
       "    </tr>\n",
       "    <tr>\n",
       "      <th>3443</th>\n",
       "      <td>2024-02-13</td>\n",
       "      <td>185.770004</td>\n",
       "      <td>186.210007</td>\n",
       "      <td>183.509995</td>\n",
       "      <td>185.039993</td>\n",
       "      <td>185.039993</td>\n",
       "      <td>56529500</td>\n",
       "    </tr>\n",
       "    <tr>\n",
       "      <th>3444</th>\n",
       "      <td>2024-02-14</td>\n",
       "      <td>185.320007</td>\n",
       "      <td>185.529999</td>\n",
       "      <td>182.440002</td>\n",
       "      <td>184.149994</td>\n",
       "      <td>184.149994</td>\n",
       "      <td>54630500</td>\n",
       "    </tr>\n",
       "    <tr>\n",
       "      <th>3445</th>\n",
       "      <td>2024-02-15</td>\n",
       "      <td>183.550003</td>\n",
       "      <td>184.490005</td>\n",
       "      <td>181.350006</td>\n",
       "      <td>183.860001</td>\n",
       "      <td>183.860001</td>\n",
       "      <td>65295400</td>\n",
       "    </tr>\n",
       "  </tbody>\n",
       "</table>\n",
       "</div>"
      ],
      "text/plain": [
       "           Date        Open        High         Low       Close   Adj Close  \\\n",
       "3441 2024-02-09  188.649994  189.990005  188.000000  188.850006  188.850006   \n",
       "3442 2024-02-12  188.419998  188.669998  186.789993  187.149994  187.149994   \n",
       "3443 2024-02-13  185.770004  186.210007  183.509995  185.039993  185.039993   \n",
       "3444 2024-02-14  185.320007  185.529999  182.440002  184.149994  184.149994   \n",
       "3445 2024-02-15  183.550003  184.490005  181.350006  183.860001  183.860001   \n",
       "\n",
       "        Volume  \n",
       "3441  45155200  \n",
       "3442  41781900  \n",
       "3443  56529500  \n",
       "3444  54630500  \n",
       "3445  65295400  "
      ]
     },
     "execution_count": 5,
     "metadata": {},
     "output_type": "execute_result"
    }
   ],
   "source": [
    "import pandas as pd\n",
    "import yfinance as yf\n",
    "import datetime\n",
    "from datetime import date, timedelta\n",
    "today = date.today()\n",
    "\n",
    "d1 = today.strftime(\"%Y-%m-%d\")\n",
    "end_date = d1\n",
    "d2 = date.today() - timedelta(days=5000)\n",
    "d2 = d2.strftime(\"%Y-%m-%d\")\n",
    "start_date = d2\n",
    "\n",
    "data = yf.download('AAPL', \n",
    "                      start=start_date, \n",
    "                      end=end_date, \n",
    "                      progress=False)\n",
    "data[\"Date\"] = data.index\n",
    "data = data[[\"Date\", \"Open\", \"High\", \"Low\", \"Close\", \n",
    "             \"Adj Close\", \"Volume\"]]\n",
    "data.reset_index(drop=True, inplace=True)\n",
    "data.tail()"
   ]
  },
  {
   "cell_type": "markdown",
   "metadata": {},
   "source": [
    "A candlestick chart provides a comprehensive view of stock price fluctuations, highlighting both upward and downward movements. To gain insight into these dynamics, let's visualize a candlestick chart of the data before proceeding further:"
   ]
  },
  {
   "cell_type": "code",
   "execution_count": 16,
   "metadata": {},
   "outputs": [
    {
     "data": {
      "image/png": "[encoded data removed]",
      "text/plain": [
       "<Figure size 1000x600 with 1 Axes>"
      ]
     },
     "metadata": {},
     "output_type": "display_data"
    }
   ],
   "source": [
    "import matplotlib.pyplot as plt\n",
    "import seaborn as sns\n",
    "\n",
    "# Assuming `data` is your DataFrame containing stock price data\n",
    "sns.set(style=\"whitegrid\")\n",
    "plt.figure(figsize=(10, 6))\n",
    "\n",
    "# Plotting candlestick chart\n",
    "sns.lineplot(data=data[['Date', 'Open']], x='Date', y='Open', color='blue', label='Open')\n",
    "sns.lineplot(data=data[['Date', 'High']], x='Date', y='High', color='green', label='High')\n",
    "sns.lineplot(data=data[['Date', 'Low']], x='Date', y='Low', color='red', label='Low')\n",
    "sns.lineplot(data=data[['Date', 'Close']], x='Date', y='Close', color='black', label='Close')\n",
    "\n",
    "plt.title('Apple Stock Price Analysis')\n",
    "plt.xlabel('Date')\n",
    "plt.ylabel('Price')\n",
    "plt.legend()\n",
    "plt.xticks(rotation=45)\n",
    "plt.tight_layout()\n",
    "plt.show()\n"
   ]
  },
  {
   "cell_type": "markdown",
   "metadata": {},
   "source": [
    "Now, let's examine the correlation between all columns and the \"Close\" column, given that it serves as the target variable:\n"
   ]
  },
  {
   "cell_type": "code",
   "execution_count": 17,
   "metadata": {},
   "outputs": [
    {
     "name": "stdout",
     "output_type": "stream",
     "text": [
      "Close        1.000000\n",
      "Adj Close    0.999956\n",
      "Low          0.999893\n",
      "High         0.999888\n",
      "Open         0.999766\n",
      "Volume      -0.529683\n",
      "Name: Close, dtype: float64\n"
     ]
    },
    {
     "name": "stderr",
     "output_type": "stream",
     "text": [
      "<ipython-input-17-81091e368782>:1: FutureWarning:\n",
      "\n",
      "The default value of numeric_only in DataFrame.corr is deprecated. In a future version, it will default to False. Select only valid columns or specify the value of numeric_only to silence this warning.\n",
      "\n"
     ]
    }
   ],
   "source": [
    "correlation = data.corr()\n",
    "print(correlation[\"Close\"].sort_values(ascending=False))"
   ]
  },
  {
   "cell_type": "markdown",
   "metadata": {},
   "source": [
    "## Training LSTM Models for Stock Price Prediction\n",
    "\n",
    "Next, I'll commence training an LSTM model for stock price prediction. To begin, I'll partition the data into training and test sets:"
   ]
  },
  {
   "cell_type": "code",
   "execution_count": 18,
   "metadata": {},
   "outputs": [],
   "source": [
    "x = data[[\"Open\", \"High\", \"Low\", \"Volume\"]]\n",
    "y = data[\"Close\"]\n",
    "x = x.to_numpy()\n",
    "y = y.to_numpy()\n",
    "y = y.reshape(-1, 1)\n",
    "\n",
    "from sklearn.model_selection import train_test_split\n",
    "xtrain, xtest, ytrain, ytest = train_test_split(x, y, test_size=0.2, random_state=42)"
   ]
  },
  {
   "cell_type": "markdown",
   "metadata": {},
   "source": [
    "Now, I'll design a neural network architecture tailored for LSTM:"
   ]
  },
  {
   "cell_type": "code",
   "execution_count": 19,
   "metadata": {},
   "outputs": [
    {
     "name": "stdout",
     "output_type": "stream",
     "text": [
      "Model: \"sequential\"\n",
      "_________________________________________________________________\n",
      " Layer (type)                Output Shape              Param #   \n",
      "=================================================================\n",
      " lstm (LSTM)                 (None, 4, 128)            66560     \n",
      "                                                                 \n",
      " lstm_1 (LSTM)               (None, 64)                49408     \n",
      "                                                                 \n",
      " dense (Dense)               (None, 25)                1625      \n",
      "                                                                 \n",
      " dense_1 (Dense)             (None, 1)                 26        \n",
      "                                                                 \n",
      "=================================================================\n",
      "Total params: 117619 (459.45 KB)\n",
      "Trainable params: 117619 (459.45 KB)\n",
      "Non-trainable params: 0 (0.00 Byte)\n",
      "_________________________________________________________________\n"
     ]
    }
   ],
   "source": [
    "from keras.models import Sequential\n",
    "from keras.layers import Dense, LSTM\n",
    "model = Sequential()\n",
    "model.add(LSTM(128, return_sequences=True, input_shape= (xtrain.shape[1], 1)))\n",
    "model.add(LSTM(64, return_sequences=False))\n",
    "model.add(Dense(25))\n",
    "model.add(Dense(1))\n",
    "model.summary()"
   ]
  },
  {
   "cell_type": "markdown",
   "metadata": {},
   "source": [
    "Here's how we can train our neural network model for predicting stock prices:"
   ]
  },
  {
   "cell_type": "code",
   "execution_count": 20,
   "metadata": {},
   "outputs": [
    {
     "name": "stdout",
     "output_type": "stream",
     "text": [
      "Epoch 1/30\n",
      "2756/2756 [==============================] - 10s 3ms/step - loss: 405.5502\n",
      "Epoch 2/30\n",
      "2756/2756 [==============================] - 10s 4ms/step - loss: 17.7562\n",
      "Epoch 3/30\n",
      "2756/2756 [==============================] - 9s 3ms/step - loss: 13.2503\n",
      "Epoch 4/30\n",
      "2756/2756 [==============================] - 10s 3ms/step - loss: 11.1172\n",
      "Epoch 5/30\n",
      "2756/2756 [==============================] - 9s 3ms/step - loss: 11.2275\n",
      "Epoch 6/30\n",
      "2756/2756 [==============================] - 10s 3ms/step - loss: 17.4913\n",
      "Epoch 7/30\n",
      "2756/2756 [==============================] - 9s 3ms/step - loss: 13.5956\n",
      "Epoch 8/30\n",
      "2756/2756 [==============================] - 9s 3ms/step - loss: 14.8605\n",
      "Epoch 9/30\n",
      "2756/2756 [==============================] - 10s 4ms/step - loss: 5.8389\n",
      "Epoch 10/30\n",
      "2756/2756 [==============================] - 9s 3ms/step - loss: 8.4901\n",
      "Epoch 11/30\n",
      "2756/2756 [==============================] - 10s 3ms/step - loss: 7.4517\n",
      "Epoch 12/30\n",
      "2756/2756 [==============================] - 11s 4ms/step - loss: 6.9519\n",
      "Epoch 13/30\n",
      "2756/2756 [==============================] - 10s 4ms/step - loss: 7.2027\n",
      "Epoch 14/30\n",
      "2756/2756 [==============================] - 10s 4ms/step - loss: 7.8930\n",
      "Epoch 15/30\n",
      "2756/2756 [==============================] - 10s 3ms/step - loss: 6.0440\n",
      "Epoch 16/30\n",
      "2756/2756 [==============================] - 11s 4ms/step - loss: 6.7282\n",
      "Epoch 17/30\n",
      "2756/2756 [==============================] - 9s 3ms/step - loss: 5.6458\n",
      "Epoch 18/30\n",
      "2756/2756 [==============================] - 10s 4ms/step - loss: 5.7204\n",
      "Epoch 19/30\n",
      "2756/2756 [==============================] - 10s 4ms/step - loss: 6.3376\n",
      "Epoch 20/30\n",
      "2756/2756 [==============================] - 9s 3ms/step - loss: 8.4803\n",
      "Epoch 21/30\n",
      "2756/2756 [==============================] - 10s 4ms/step - loss: 7.0349\n",
      "Epoch 22/30\n",
      "2756/2756 [==============================] - 10s 4ms/step - loss: 5.3223\n",
      "Epoch 23/30\n",
      "2756/2756 [==============================] - 9s 3ms/step - loss: 4.4237\n",
      "Epoch 24/30\n",
      "2756/2756 [==============================] - 10s 4ms/step - loss: 4.7016\n",
      "Epoch 25/30\n",
      "2756/2756 [==============================] - 9s 3ms/step - loss: 4.3611\n",
      "Epoch 26/30\n",
      "2756/2756 [==============================] - 9s 3ms/step - loss: 4.3875\n",
      "Epoch 27/30\n",
      "2756/2756 [==============================] - 9s 3ms/step - loss: 4.3337\n",
      "Epoch 28/30\n",
      "2756/2756 [==============================] - 10s 3ms/step - loss: 4.2851\n",
      "Epoch 29/30\n",
      "2756/2756 [==============================] - 9s 3ms/step - loss: 4.3668\n",
      "Epoch 30/30\n",
      "2756/2756 [==============================] - 9s 3ms/step - loss: 4.0242\n"
     ]
    },
    {
     "data": {
      "text/plain": [
       "<keras.src.callbacks.History at 0x1509f57e0>"
      ]
     },
     "execution_count": 20,
     "metadata": {},
     "output_type": "execute_result"
    }
   ],
   "source": [
    "model.compile(optimizer='adam', loss='mean_squared_error')\n",
    "model.fit(xtrain, ytrain, batch_size=1, epochs=30)"
   ]
  },
  {
   "cell_type": "markdown",
   "metadata": {},
   "source": [
    "Now, let's evaluate this model by providing input values corresponding to the features used for training and predicting the final result:"
   ]
  },
  {
   "cell_type": "code",
   "execution_count": 21,
   "metadata": {},
   "outputs": [
    {
     "name": "stdout",
     "output_type": "stream",
     "text": [
      "1/1 [==============================] - 0s 421ms/step\n"
     ]
    },
    {
     "data": {
      "text/plain": [
       "array([[176.901]], dtype=float32)"
      ]
     },
     "execution_count": 21,
     "metadata": {},
     "output_type": "execute_result"
    }
   ],
   "source": [
    "import numpy as np\n",
    "#features = [Open, High, Low, Adj Close, Volume]\n",
    "features = np.array([[177.089996, 180.419998, 177.070007, 74919600]])\n",
    "model.predict(features)"
   ]
  },
  {
   "cell_type": "markdown",
   "metadata": {},
   "source": [
    "This demonstrates how we can utilize the LSTM neural network architecture for the task of stock price prediction."
   ]
  },
  {
   "cell_type": "markdown",
   "metadata": {},
   "source": [
    "## Summary\n",
    "\n",
    "LSTM stands for Long Short-Term Memory Networks. As a type of recurrent neural network, LSTM is engineered to retain data over extended periods. Leveraging LSTM represents one of the most effective machine learning methodologies for time series forecasting. I trust you found this article on predicting stock prices with LSTM using Python informative. Please don't hesitate to ask any questions in the comments section below.\n"
   ]
  }
 ],
 "metadata": {
  "kernelspec": {
   "display_name": "Python 3",
   "language": "python",
   "name": "python3"
  },
  "language_info": {
   "codemirror_mode": {
    "name": "ipython",
    "version": 3
   },
   "file_extension": ".py",
   "mimetype": "text/x-python",
   "name": "python",
   "nbconvert_exporter": "python",
   "pygments_lexer": "ipython3",
   "version": "3.10.12"
  }
 },
 "nbformat": 4,
 "nbformat_minor": 2
}
